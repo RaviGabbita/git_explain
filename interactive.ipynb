{
 "cells": [
  {
   "cell_type": "code",
   "execution_count": null,
   "id": "034e864e",
   "metadata": {},
   "outputs": [
    {
     "name": "stdout",
     "output_type": "stream",
     "text": [
      "line1\n",
      "line 2\n"
     ]
    }
   ],
   "source": [
    "print('line1')\n",
    "print('line 2')\n",
    "print ('happy learning')"
   ]
  },
  {
   "cell_type": "code",
   "execution_count": null,
   "id": "c69ed72e",
   "metadata": {},
   "outputs": [],
   "source": []
  },
  {
   "cell_type": "code",
   "execution_count": 7,
   "id": "ccf507a3",
   "metadata": {},
   "outputs": [
    {
     "name": "stdout",
     "output_type": "stream",
     "text": [
      "line1\n"
     ]
    }
   ],
   "source": [
    "print('line1')"
   ]
  },
  {
   "cell_type": "code",
   "execution_count": 6,
   "id": "34c0d5bd",
   "metadata": {},
   "outputs": [
    {
     "data": {
      "text/plain": [
       "3"
      ]
     },
     "execution_count": 6,
     "metadata": {},
     "output_type": "execute_result"
    }
   ],
   "source": [
    "1+2"
   ]
  },
  {
   "cell_type": "code",
   "execution_count": 5,
   "id": "161bb3df",
   "metadata": {},
   "outputs": [
    {
     "name": "stdout",
     "output_type": "stream",
     "text": [
      " Volume in drive C is OS\n",
      " Volume Serial Number is 0A5D-570F\n",
      "\n",
      " Directory of c:\\Users\\ravik\\Downloads\\GenAIEngBaseCamp2\n",
      "\n",
      "06/08/2025  10:15 AM    <DIR>          .\n",
      "06/08/2025  10:02 AM    <DIR>          ..\n",
      "06/08/2025  10:15 AM                 0 interactive.ipynb\n",
      "06/08/2025  10:05 AM                24 test.py\n",
      "               2 File(s)             24 bytes\n",
      "               2 Dir(s)  839,228,977,152 bytes free\n"
     ]
    }
   ],
   "source": [
    "ls"
   ]
  },
  {
   "cell_type": "code",
   "execution_count": 4,
   "id": "7e005b30",
   "metadata": {},
   "outputs": [
    {
     "name": "stdout",
     "output_type": "stream",
     "text": [
      "Hi Outskillers\n"
     ]
    }
   ],
   "source": [
    "print(\"Hi Outskillers\")"
   ]
  }
 ],
 "metadata": {
  "kernelspec": {
   "display_name": "Python 3",
   "language": "python",
   "name": "python3"
  },
  "language_info": {
   "codemirror_mode": {
    "name": "ipython",
    "version": 3
   },
   "file_extension": ".py",
   "mimetype": "text/x-python",
   "name": "python",
   "nbconvert_exporter": "python",
   "pygments_lexer": "ipython3",
   "version": "3.13.3"
  }
 },
 "nbformat": 4,
 "nbformat_minor": 5
}
